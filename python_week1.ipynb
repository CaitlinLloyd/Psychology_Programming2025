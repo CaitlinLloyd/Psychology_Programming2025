{
 "cells": [
  {
   "cell_type": "markdown",
   "id": "334e353e-dc09-4813-9668-452bcd76c111",
   "metadata": {},
   "source": [
    "# Python Session 1\n",
    "\n",
    "## We will practice cleaning some Food choice task data\n",
    "\n",
    "We are going to generate data from 20 individuals to practice our skills. In the task, participants rate 50 foods for healthiness, tastiness and choice. We are simulating this data below.\n",
    "\n"
   ]
  },
  {
   "cell_type": "code",
   "execution_count": 1,
   "id": "ab368880-7bda-4abd-8c7d-702758f60b35",
   "metadata": {},
   "outputs": [],
   "source": [
    "import pandas as pd\n",
    "import numpy as np\n",
    "import random"
   ]
  },
  {
   "cell_type": "code",
   "execution_count": 2,
   "id": "fe122196-d53e-4ec6-b892-ea02382473c2",
   "metadata": {},
   "outputs": [],
   "source": [
    "import random\n",
    "import pandas as pd\n",
    "\n",
    "# Define blocks and trial structure\n",
    "blocks = ['health', 'taste', 'choice']\n",
    "trials_per_block = 75\n",
    "participants = range(1, 21)\n",
    "\n",
    "# Generate 50 unique foods\n",
    "base_foods = [\n",
    "    'apple', 'banana', 'burger', 'carrot', 'donut', 'eggs', 'fries', 'grapes', 'ice cream', 'kale',\n",
    "    'pizza', 'yogurt', 'spinach', 'steak', 'candy', 'popcorn', 'mango', 'nuts', 'cheese', 'chicken',\n",
    "    'broccoli', 'chocolate', 'granola', 'lettuce', 'pasta', 'salmon', 'tofu', 'soda', 'rice', 'beans',\n",
    "    'cucumber', 'peach', 'bacon', 'cereal', 'toast', 'avocado', 'beef', 'peanut butter', 'cake', 'milk',\n",
    "    'watermelon', 'pear', 'turkey', 'onion rings', 'oatmeal', 'cranberries', 'syrup', 'waffles', 'cookie', 'shrimp'\n",
    "]\n",
    "assert len(base_foods) == 50\n",
    "\n",
    "# Assign fat and sugar levels randomly\n",
    "food_properties = {}\n",
    "for food in base_foods:\n",
    "    fat = random.choices(['high', 'low'], weights=[0.4, 0.6])[0]\n",
    "    sugar = random.choices(['high', 'low'], weights=[0.5, 0.5])[0]\n",
    "    food_properties[food] = {'fat': fat, 'sugar': sugar}\n",
    "\n",
    "# Generate trials\n",
    "all_trials = []\n",
    "\n",
    "for participant in participants:\n",
    "    for block in blocks:\n",
    "        for trial_num in range(1, trials_per_block + 1):\n",
    "            food = random.choice(base_foods)\n",
    "            rt_missing = random.random() < 0.02  # 2% chance of missing RT\n",
    "            reaction_time = None if rt_missing else round(random.uniform(0.5, 4.0), 2)\n",
    "            rating = None if reaction_time is None else random.randint(1, 10)\n",
    "\n",
    "            fat = food_properties[food]['fat']\n",
    "            sugar = food_properties[food]['sugar']\n",
    "\n",
    "            trial = {\n",
    "                'participant': participant,\n",
    "                'block': block,\n",
    "                'trial_number': trial_num,\n",
    "                'food': food,\n",
    "                'reaction_time': reaction_time,\n",
    "                'rating': rating,\n",
    "                'fat': fat,\n",
    "                'sugar': sugar\n",
    "            }\n",
    "            all_trials.append(trial)\n",
    "\n",
    "# Create DataFrame\n",
    "df = pd.DataFrame(all_trials)\n",
    "\n",
    "# Validate logic: rating is only missing if RT is missing\n",
    "assert all(df[df['rating'].isna()]['reaction_time'].isna())"
   ]
  },
  {
   "cell_type": "markdown",
   "id": "1604645e-b7ff-4f97-9978-50b08a00dd2f",
   "metadata": {},
   "source": [
    "The data are stored in a dataframe object, which we have called df\n",
    "To access items in the dataframe, we need to type \"df\""
   ]
  },
  {
   "cell_type": "code",
   "execution_count": 3,
   "id": "a29e2a5c-8891-4050-8e12-e36a96293feb",
   "metadata": {},
   "outputs": [
    {
     "data": {
      "text/html": [
       "<div>\n",
       "<style scoped>\n",
       "    .dataframe tbody tr th:only-of-type {\n",
       "        vertical-align: middle;\n",
       "    }\n",
       "\n",
       "    .dataframe tbody tr th {\n",
       "        vertical-align: top;\n",
       "    }\n",
       "\n",
       "    .dataframe thead th {\n",
       "        text-align: right;\n",
       "    }\n",
       "</style>\n",
       "<table border=\"1\" class=\"dataframe\">\n",
       "  <thead>\n",
       "    <tr style=\"text-align: right;\">\n",
       "      <th></th>\n",
       "      <th>participant</th>\n",
       "      <th>block</th>\n",
       "      <th>trial_number</th>\n",
       "      <th>food</th>\n",
       "      <th>reaction_time</th>\n",
       "      <th>rating</th>\n",
       "      <th>fat</th>\n",
       "      <th>sugar</th>\n",
       "    </tr>\n",
       "  </thead>\n",
       "  <tbody>\n",
       "    <tr>\n",
       "      <th>0</th>\n",
       "      <td>1</td>\n",
       "      <td>health</td>\n",
       "      <td>1</td>\n",
       "      <td>chicken</td>\n",
       "      <td>2.27</td>\n",
       "      <td>2.0</td>\n",
       "      <td>high</td>\n",
       "      <td>low</td>\n",
       "    </tr>\n",
       "    <tr>\n",
       "      <th>1</th>\n",
       "      <td>1</td>\n",
       "      <td>health</td>\n",
       "      <td>2</td>\n",
       "      <td>beans</td>\n",
       "      <td>1.10</td>\n",
       "      <td>7.0</td>\n",
       "      <td>high</td>\n",
       "      <td>high</td>\n",
       "    </tr>\n",
       "    <tr>\n",
       "      <th>2</th>\n",
       "      <td>1</td>\n",
       "      <td>health</td>\n",
       "      <td>3</td>\n",
       "      <td>granola</td>\n",
       "      <td>2.50</td>\n",
       "      <td>8.0</td>\n",
       "      <td>high</td>\n",
       "      <td>high</td>\n",
       "    </tr>\n",
       "    <tr>\n",
       "      <th>3</th>\n",
       "      <td>1</td>\n",
       "      <td>health</td>\n",
       "      <td>4</td>\n",
       "      <td>kale</td>\n",
       "      <td>1.82</td>\n",
       "      <td>4.0</td>\n",
       "      <td>low</td>\n",
       "      <td>low</td>\n",
       "    </tr>\n",
       "    <tr>\n",
       "      <th>4</th>\n",
       "      <td>1</td>\n",
       "      <td>health</td>\n",
       "      <td>5</td>\n",
       "      <td>cucumber</td>\n",
       "      <td>2.42</td>\n",
       "      <td>7.0</td>\n",
       "      <td>low</td>\n",
       "      <td>high</td>\n",
       "    </tr>\n",
       "    <tr>\n",
       "      <th>...</th>\n",
       "      <td>...</td>\n",
       "      <td>...</td>\n",
       "      <td>...</td>\n",
       "      <td>...</td>\n",
       "      <td>...</td>\n",
       "      <td>...</td>\n",
       "      <td>...</td>\n",
       "      <td>...</td>\n",
       "    </tr>\n",
       "    <tr>\n",
       "      <th>4495</th>\n",
       "      <td>20</td>\n",
       "      <td>choice</td>\n",
       "      <td>71</td>\n",
       "      <td>syrup</td>\n",
       "      <td>1.46</td>\n",
       "      <td>5.0</td>\n",
       "      <td>low</td>\n",
       "      <td>low</td>\n",
       "    </tr>\n",
       "    <tr>\n",
       "      <th>4496</th>\n",
       "      <td>20</td>\n",
       "      <td>choice</td>\n",
       "      <td>72</td>\n",
       "      <td>ice cream</td>\n",
       "      <td>3.09</td>\n",
       "      <td>5.0</td>\n",
       "      <td>low</td>\n",
       "      <td>high</td>\n",
       "    </tr>\n",
       "    <tr>\n",
       "      <th>4497</th>\n",
       "      <td>20</td>\n",
       "      <td>choice</td>\n",
       "      <td>73</td>\n",
       "      <td>salmon</td>\n",
       "      <td>2.74</td>\n",
       "      <td>9.0</td>\n",
       "      <td>high</td>\n",
       "      <td>low</td>\n",
       "    </tr>\n",
       "    <tr>\n",
       "      <th>4498</th>\n",
       "      <td>20</td>\n",
       "      <td>choice</td>\n",
       "      <td>74</td>\n",
       "      <td>candy</td>\n",
       "      <td>0.87</td>\n",
       "      <td>1.0</td>\n",
       "      <td>high</td>\n",
       "      <td>high</td>\n",
       "    </tr>\n",
       "    <tr>\n",
       "      <th>4499</th>\n",
       "      <td>20</td>\n",
       "      <td>choice</td>\n",
       "      <td>75</td>\n",
       "      <td>burger</td>\n",
       "      <td>2.27</td>\n",
       "      <td>4.0</td>\n",
       "      <td>high</td>\n",
       "      <td>low</td>\n",
       "    </tr>\n",
       "  </tbody>\n",
       "</table>\n",
       "<p>4500 rows × 8 columns</p>\n",
       "</div>"
      ],
      "text/plain": [
       "      participant   block  trial_number       food  reaction_time  rating  \\\n",
       "0               1  health             1    chicken           2.27     2.0   \n",
       "1               1  health             2      beans           1.10     7.0   \n",
       "2               1  health             3    granola           2.50     8.0   \n",
       "3               1  health             4       kale           1.82     4.0   \n",
       "4               1  health             5   cucumber           2.42     7.0   \n",
       "...           ...     ...           ...        ...            ...     ...   \n",
       "4495           20  choice            71      syrup           1.46     5.0   \n",
       "4496           20  choice            72  ice cream           3.09     5.0   \n",
       "4497           20  choice            73     salmon           2.74     9.0   \n",
       "4498           20  choice            74      candy           0.87     1.0   \n",
       "4499           20  choice            75     burger           2.27     4.0   \n",
       "\n",
       "       fat sugar  \n",
       "0     high   low  \n",
       "1     high  high  \n",
       "2     high  high  \n",
       "3      low   low  \n",
       "4      low  high  \n",
       "...    ...   ...  \n",
       "4495   low   low  \n",
       "4496   low  high  \n",
       "4497  high   low  \n",
       "4498  high  high  \n",
       "4499  high   low  \n",
       "\n",
       "[4500 rows x 8 columns]"
      ]
     },
     "execution_count": 3,
     "metadata": {},
     "output_type": "execute_result"
    }
   ],
   "source": [
    "#If we want to see the data, we can just type\n",
    "df"
   ]
  },
  {
   "cell_type": "code",
   "execution_count": 4,
   "id": "bc200b99-38e5-4a36-8449-d42de546862b",
   "metadata": {},
   "outputs": [
    {
     "data": {
      "text/plain": [
       "Index(['participant', 'block', 'trial_number', 'food', 'reaction_time',\n",
       "       'rating', 'fat', 'sugar'],\n",
       "      dtype='object')"
      ]
     },
     "execution_count": 4,
     "metadata": {},
     "output_type": "execute_result"
    }
   ],
   "source": [
    "# To see anything in df we will need to reference df first\n",
    "df.columns"
   ]
  },
  {
   "cell_type": "code",
   "execution_count": 5,
   "id": "59dd281b-3a14-41cc-b09a-fc4680abe8b4",
   "metadata": {},
   "outputs": [
    {
     "data": {
      "text/plain": [
       "0         chicken\n",
       "1           beans\n",
       "2         granola\n",
       "3            kale\n",
       "4        cucumber\n",
       "          ...    \n",
       "4495        syrup\n",
       "4496    ice cream\n",
       "4497       salmon\n",
       "4498        candy\n",
       "4499       burger\n",
       "Name: food, Length: 4500, dtype: object"
      ]
     },
     "execution_count": 5,
     "metadata": {},
     "output_type": "execute_result"
    }
   ],
   "source": [
    "# We can also look at the values of columns\n",
    "# All of these will access the food column\n",
    "df.food\n",
    "df['food']\n",
    "df.iloc[:,3]"
   ]
  },
  {
   "cell_type": "code",
   "execution_count": 6,
   "id": "f0c42a24-7f25-4b21-ab3e-d3434b758c44",
   "metadata": {},
   "outputs": [],
   "source": [
    "# Try here with RT"
   ]
  },
  {
   "cell_type": "code",
   "execution_count": 7,
   "id": "2187fe83-1844-45a9-b470-bdaa7dc8482d",
   "metadata": {},
   "outputs": [
    {
     "data": {
      "text/plain": [
       "158    NaN\n",
       "193    NaN\n",
       "215    NaN\n",
       "281    NaN\n",
       "340    NaN\n",
       "        ..\n",
       "4308   NaN\n",
       "4353   NaN\n",
       "4433   NaN\n",
       "4435   NaN\n",
       "4444   NaN\n",
       "Name: reaction_time, Length: 105, dtype: float64"
      ]
     },
     "execution_count": 7,
     "metadata": {},
     "output_type": "execute_result"
    }
   ],
   "source": [
    "# To analyze this data, we will first need to remove any missing trials\n",
    "# let's find the missing values\n",
    "df.reaction_time[df.reaction_time.isna()==True]"
   ]
  },
  {
   "cell_type": "code",
   "execution_count": 8,
   "id": "dc123499-cafd-4f0b-a6aa-e3e37f9b7162",
   "metadata": {},
   "outputs": [
    {
     "data": {
      "text/plain": [
       "5       3.07\n",
       "7       3.72\n",
       "8       3.37\n",
       "10      3.29\n",
       "15      3.45\n",
       "        ... \n",
       "4489    3.17\n",
       "4490    3.72\n",
       "4492    3.36\n",
       "4493    3.85\n",
       "4496    3.09\n",
       "Name: reaction_time, Length: 1155, dtype: float64"
      ]
     },
     "execution_count": 8,
     "metadata": {},
     "output_type": "execute_result"
    }
   ],
   "source": [
    "df.reaction_time[df.reaction_time > 3]\n",
    "\n",
    "# What would we change to see RTs < 2 only?"
   ]
  },
  {
   "cell_type": "code",
   "execution_count": 9,
   "id": "f01fe743-afbc-433f-a97f-96c5f893b5f9",
   "metadata": {},
   "outputs": [],
   "source": [
    "# make a new data frame with no missing values\n",
    "df1 = df[df.reaction_time.isna()==True]"
   ]
  },
  {
   "cell_type": "code",
   "execution_count": 10,
   "id": "3d22111a-4d20-4cc1-815e-721908b4e62a",
   "metadata": {},
   "outputs": [
    {
     "name": "stdout",
     "output_type": "stream",
     "text": [
      "Participant 1's average health rating: 5.12\n"
     ]
    }
   ],
   "source": [
    "# Now we want to perform some calculations on this data-set\n",
    "# let's start by summarizing, for one person the health rating\n",
    "\n",
    "# Filter for participant 1 and the 'health' block\n",
    "participant_id = 1\n",
    "health_block = df[(df['participant'] == participant_id) & (df['block'] == 'health')]\n",
    "\n",
    "# Remove missing ratings (i.e., where RT was missing)\n",
    "valid_ratings = health_block['rating'].dropna()\n",
    "\n",
    "# Calculate the average health rating\n",
    "average_health_rating = valid_ratings.mean()\n",
    "\n",
    "print(f\"Participant {participant_id}'s average health rating: {average_health_rating:.2f}\")\n"
   ]
  },
  {
   "cell_type": "code",
   "execution_count": 11,
   "id": "deacdf8a-7979-48eb-9b6b-848d99d2fd29",
   "metadata": {},
   "outputs": [],
   "source": [
    "#Try for health only for low and high-fat"
   ]
  },
  {
   "cell_type": "code",
   "execution_count": 12,
   "id": "3958c3ab-3257-4e27-94d1-299892f18e6e",
   "metadata": {},
   "outputs": [
    {
     "name": "stdout",
     "output_type": "stream",
     "text": [
      "   participant   block   fat  average_rating  average_reaction_time  \\\n",
      "0            1  choice  high        5.720000               2.154800   \n",
      "1            1  choice   low        5.446809               2.444468   \n",
      "2            1  health  high        5.612903               2.066452   \n",
      "3            1  health   low        4.772727               2.563182   \n",
      "4            1   taste  high        5.040000               2.114400   \n",
      "\n",
      "   trial_count  \n",
      "0           25  \n",
      "1           47  \n",
      "2           31  \n",
      "3           44  \n",
      "4           25  \n"
     ]
    }
   ],
   "source": [
    "#Now let's create a new dataframe and store each persons average RT and rating for high and low fat foods\n",
    "\n",
    "# Group by participant, block, and fat level\n",
    "summary_df = (\n",
    "    df\n",
    "    .dropna(subset=['rating', 'reaction_time'])  # Exclude trials with missing values\n",
    "    .groupby(['participant', 'block', 'fat'])\n",
    "    .agg(\n",
    "        average_rating=('rating', 'mean'),\n",
    "        average_reaction_time=('reaction_time', 'mean'),\n",
    "        trial_count=('rating', 'count')  # Optional: to see how many valid trials per group\n",
    "    )\n",
    "    .reset_index()\n",
    ")\n",
    "\n",
    "print(summary_df.head())\n"
   ]
  },
  {
   "cell_type": "code",
   "execution_count": 13,
   "id": "14f8429c-6c4c-46c9-82d9-8934fe8f8085",
   "metadata": {},
   "outputs": [],
   "source": [
    "# Pivot to wide format\n",
    "wide_df = summary_df.pivot_table(\n",
    "    index='participant',\n",
    "    columns=['block', 'fat'],\n",
    "    values=['average_rating', 'average_reaction_time']\n",
    ")\n",
    "\n",
    "\n"
   ]
  },
  {
   "cell_type": "code",
   "execution_count": 14,
   "id": "c66fd5f2-0246-4c62-b3e2-4c7bcbc00e1d",
   "metadata": {},
   "outputs": [
    {
     "name": "stdout",
     "output_type": "stream",
     "text": [
      "   participant  average_rating_choice_high  average_rating_choice_low  \\\n",
      "0            1                    5.720000                   5.446809   \n",
      "1            2                    5.538462                   5.086957   \n",
      "2            3                    5.750000                   5.681818   \n",
      "3            4                    5.533333                   5.600000   \n",
      "4            5                    6.000000                   5.800000   \n",
      "\n",
      "   average_rating_health_high  average_rating_health_low  \\\n",
      "0                    5.612903                   4.772727   \n",
      "1                    5.514286                   6.000000   \n",
      "2                    5.862069                   4.906977   \n",
      "3                    5.714286                   5.638298   \n",
      "4                    5.851852                   5.795455   \n",
      "\n",
      "   average_rating_taste_high  average_rating_taste_low  \\\n",
      "0                   5.040000                  6.240000   \n",
      "1                   6.607143                  4.666667   \n",
      "2                   5.545455                  5.952381   \n",
      "3                   7.264706                  5.026316   \n",
      "4                   4.538462                  5.270833   \n",
      "\n",
      "   average_reaction_time_choice_high  average_reaction_time_choice_low  \\\n",
      "0                           2.154800                          2.444468   \n",
      "1                           2.071538                          2.369565   \n",
      "2                           2.300000                          2.002500   \n",
      "3                           2.317000                          2.126222   \n",
      "4                           2.227826                          2.292600   \n",
      "\n",
      "   average_reaction_time_health_high  average_reaction_time_health_low  \\\n",
      "0                           2.066452                          2.563182   \n",
      "1                           2.297714                          2.561795   \n",
      "2                           1.772069                          2.267442   \n",
      "3                           2.925000                          2.355319   \n",
      "4                           2.752963                          1.966364   \n",
      "\n",
      "   average_reaction_time_taste_high  average_reaction_time_taste_low  \n",
      "0                          2.114400                         2.384400  \n",
      "1                          2.462857                         2.515333  \n",
      "2                          1.927879                         2.335000  \n",
      "3                          2.179118                         2.185789  \n",
      "4                          2.252692                         2.129375  \n"
     ]
    }
   ],
   "source": [
    "# Step 3: Flatten column names\n",
    "wide_df.columns = [f'{stat}_{block}_{fat}' for stat, block, fat in wide_df.columns]\n",
    "wide_df = wide_df.reset_index()\n",
    "\n",
    "print(wide_df.head())"
   ]
  },
  {
   "cell_type": "code",
   "execution_count": 15,
   "id": "2a3b8624-6e18-4f55-8594-c7adf84eaa87",
   "metadata": {},
   "outputs": [],
   "source": [
    "# Here try and simulate a different dataset - a monetary choice task where the participant\n",
    "# selects between an immediate vs delayed reward. Compare the RT between when the participant\n",
    "# chooses the immediate vs delayed option"
   ]
  },
  {
   "cell_type": "code",
   "execution_count": 19,
   "id": "9eec29ce-2d1a-45f5-b5c3-e113dde35437",
   "metadata": {},
   "outputs": [],
   "source": [
    "# navigate to the directory\n",
    "data=pd.read_csv(\"https://raw.githubusercontent.com/CaitlinLloyd/Psychology_Programming2025/refs/heads/main/Data/DelayDisc_example.csv\")"
   ]
  },
  {
   "cell_type": "code",
   "execution_count": 20,
   "id": "890c7fd7-07bb-4734-8851-20afa11649d1",
   "metadata": {},
   "outputs": [
    {
     "data": {
      "text/plain": [
       "0      False\n",
       "1      False\n",
       "2      False\n",
       "3      False\n",
       "4      False\n",
       "       ...  \n",
       "109    False\n",
       "111    False\n",
       "112    False\n",
       "114    False\n",
       "117    False\n",
       "Name: delayed_opt, Length: 62, dtype: bool"
      ]
     },
     "execution_count": 20,
     "metadata": {},
     "output_type": "execute_result"
    }
   ],
   "source": [
    "# figure out whether left or right column is delayed (1 is left, 2 is right)\n",
    "data['delayed_opt']= \"none\"\n",
    "data.loc[data['delay_left'] < data['delay_right'],'delayed_opt'] ==2\n",
    "data.loc[data['delay_left'] > data['delay_right'],'delayed_opt'] ==1"
   ]
  },
  {
   "cell_type": "code",
   "execution_count": 21,
   "id": "7ce68031-ba71-476b-8835-13ab93de393b",
   "metadata": {},
   "outputs": [],
   "source": [
    "# Now summarize the RT for each person when they chose delayed vs chose sooner reward\n",
    "\n"
   ]
  },
  {
   "cell_type": "raw",
   "id": "48a45714-6f07-4706-8239-452a8317f90f",
   "metadata": {},
   "source": [
    "## This is the homework exercise\n"
   ]
  },
  {
   "cell_type": "code",
   "execution_count": null,
   "id": "03474d60-d4b2-486c-a71d-6773f0c8a6b2",
   "metadata": {},
   "outputs": [],
   "source": [
    "## Here calculate the average earnings per person and the number of times they chose delayed vs sooner\n",
    "\n",
    "## Upload solution to Github"
   ]
  },
  {
   "cell_type": "markdown",
   "id": "978b48fe-916c-4719-841a-d943ce51f058",
   "metadata": {},
   "source": [
    "## Extra\n",
    "## These are hard exercises - not homework, for extra practice"
   ]
  },
  {
   "cell_type": "code",
   "execution_count": 22,
   "id": "efc0551c-b8ab-4be9-b021-5bda93fbfa18",
   "metadata": {},
   "outputs": [],
   "source": [
    "# Hard\n",
    "\n",
    "# Here simulate your own Delay Discounting Task and calculate some average metrics"
   ]
  },
  {
   "cell_type": "code",
   "execution_count": null,
   "id": "d73625cc-31ad-45a8-8ddd-453bc4a751fb",
   "metadata": {},
   "outputs": [],
   "source": [
    "# Very hard\n",
    "# One outcome of interest is the discount rate, k, which denotes extent to which someone discounts\n",
    "# value of delayed rewards (higher values = less patient)\n",
    "\n",
    "# Here you can use chatGPT to get the formula for k - see whether you can calculate for each person\n",
    "# in your dataset"
   ]
  }
 ],
 "metadata": {
  "kernelspec": {
   "display_name": "Python 3 (ipykernel)",
   "language": "python",
   "name": "python3"
  },
  "language_info": {
   "codemirror_mode": {
    "name": "ipython",
    "version": 3
   },
   "file_extension": ".py",
   "mimetype": "text/x-python",
   "name": "python",
   "nbconvert_exporter": "python",
   "pygments_lexer": "ipython3",
   "version": "3.12.3"
  }
 },
 "nbformat": 4,
 "nbformat_minor": 5
}
